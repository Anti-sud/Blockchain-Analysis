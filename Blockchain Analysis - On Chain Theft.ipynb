{
 "cells": [
  {
   "cell_type": "markdown",
   "id": "ec7f3fa7-11bc-438a-8019-c750c3732e32",
   "metadata": {
    "jp-MarkdownHeadingCollapsed": true
   },
   "source": [
    "### ASSN_4 Sudhansh_Chopda"
   ]
  },
  {
   "cell_type": "markdown",
   "id": "0cbcb5d1-00ab-4e5c-876f-088d12a861cc",
   "metadata": {},
   "source": [
    "# On-chain Theft Forensic Analysis"
   ]
  },
  {
   "cell_type": "code",
   "execution_count": 1,
   "id": "e7f330fd-ea70-4ed7-92ff-1760be61de81",
   "metadata": {},
   "outputs": [
    {
     "name": "stdout",
     "output_type": "stream",
     "text": [
      "Requirement already satisfied: pandas in d:\\python\\anaconda\\lib\\site-packages (2.1.4)\n",
      "Requirement already satisfied: requests in d:\\python\\anaconda\\lib\\site-packages (2.31.0)\n",
      "Requirement already satisfied: plotly in d:\\python\\anaconda\\lib\\site-packages (5.9.0)\n",
      "Requirement already satisfied: numpy<2,>=1.23.2 in d:\\python\\anaconda\\lib\\site-packages (from pandas) (1.26.4)\n",
      "Requirement already satisfied: python-dateutil>=2.8.2 in d:\\python\\anaconda\\lib\\site-packages (from pandas) (2.8.2)\n",
      "Requirement already satisfied: pytz>=2020.1 in d:\\python\\anaconda\\lib\\site-packages (from pandas) (2023.3.post1)\n",
      "Requirement already satisfied: tzdata>=2022.1 in d:\\python\\anaconda\\lib\\site-packages (from pandas) (2023.3)\n",
      "Requirement already satisfied: charset-normalizer<4,>=2 in d:\\python\\anaconda\\lib\\site-packages (from requests) (2.0.4)\n",
      "Requirement already satisfied: idna<4,>=2.5 in d:\\python\\anaconda\\lib\\site-packages (from requests) (3.4)\n",
      "Requirement already satisfied: urllib3<3,>=1.21.1 in d:\\python\\anaconda\\lib\\site-packages (from requests) (2.0.7)\n",
      "Requirement already satisfied: certifi>=2017.4.17 in d:\\python\\anaconda\\lib\\site-packages (from requests) (2024.2.2)\n",
      "Requirement already satisfied: tenacity>=6.2.0 in d:\\python\\anaconda\\lib\\site-packages (from plotly) (8.2.2)\n",
      "Requirement already satisfied: six>=1.5 in d:\\python\\anaconda\\lib\\site-packages (from python-dateutil>=2.8.2->pandas) (1.16.0)\n"
     ]
    }
   ],
   "source": [
    "# Install necessary libraries\n",
    "!pip install pandas requests plotly  \n",
    "\n",
    "# Import required libraries\n",
    "import pandas as pd  # For working with dataframes and data manipulation\n",
    "import requests  # For making HTTP requests to Etherscan API\n",
    "import plotly.graph_objects as go  # For creating interactive plots, including Sankey diagrams\n",
    "import time  # To handle API rate limits by pausing between requests\n"
   ]
  },
  {
   "cell_type": "markdown",
   "id": "2ccabf14-e7ab-4961-a0bd-9572dda2e8d9",
   "metadata": {},
   "source": [
    "###  Exploiter Details:"
   ]
  },
  {
   "cell_type": "code",
   "execution_count": 2,
   "id": "ed960a34-074d-4c97-be89-2e6237c485cc",
   "metadata": {},
   "outputs": [],
   "source": [
    "# Exploiter Wallet Address: The address involved in the exploit, from which funds will be tracked\n",
    "wallet_address = \"0x098B716B8Aaf21512996dC57EB0615e2383E2f96\"\n",
    "\n",
    "# Block Range: The range of blocks to analyze, from start_block to end_block\n",
    "start_block = 14526165\n",
    "end_block = 14551589\n",
    "\n",
    "# Tornado Cash Address: The target address for identifying fund transfers to Tornado Cash\n",
    "tornado_cash_address = \"0xd90e2f925da726b50c4ed8d0fb90ad053324f31b\"\n",
    "\n",
    "# Etherscan API Key: A unique key to access Etherscan’s API (replace with your own for use)\n",
    "api_key = \"7SAE898S332Y751U41B5E63ZK7W1Y6X2H9\"\n",
    "\n",
    "# Etherscan API URL: The base URL to access data via Etherscan API\n",
    "api_url = \"https://api.etherscan.io/api\""
   ]
  },
  {
   "cell_type": "markdown",
   "id": "56e6c820-b605-4d2a-b5ad-ef610bbff06e",
   "metadata": {},
   "source": [
    "### Fetching the transactions Data for a specified wallet and block range using the given API."
   ]
  },
  {
   "cell_type": "code",
   "execution_count": 3,
   "id": "b6a20562-9f1d-4b89-afb9-05709d7e258e",
   "metadata": {},
   "outputs": [],
   "source": [
    "# Function to fetch transactions for a specified wallet address and block range\n",
    "def fetch_wallet_transactions(wallet_address, start_block, end_block, api_key, api_url):\n",
    "   \n",
    "    # Construct the URL to query Etherscan's API for transaction data\n",
    "    url = f\"{api_url}?module=account&action=txlist&address={wallet_address}&startblock={start_block}&endblock={end_block}&sort=asc&apikey={api_key}\"\n",
    "    \n",
    "    # Send the request to Etherscan API\n",
    "    response = requests.get(url)\n",
    "    \n",
    "    # Check if the response is successful (status code 200)\n",
    "    if response.status_code == 200:\n",
    "        # Return the 'result' from the API response, or an empty list if no results\n",
    "        return response.json().get('result', [])\n",
    "    else:\n",
    "        # Raise an error if the API request fails\n",
    "        raise Exception(f\"API request failed with status code: {response.status_code}\")\n",
    "\n",
    "\n",
    "# Function to filter transactions with values greater than or equal to a specified threshold (default is 100 ETH)\n",
    "def filter_large_transactions(transactions, min_value=100):\n",
    "\n",
    "    # Convert the list of transactions into a pandas DataFrame for easier manipulation\n",
    "    transaction_df = pd.DataFrame(transactions)\n",
    "    \n",
    "    # Convert the 'value' from Wei (smallest unit of Ether) to ETH (1 ETH = 10^18 Wei) and handle errors\n",
    "    transaction_df['value'] = pd.to_numeric(transaction_df['value'], errors='coerce', downcast='float') / 10**18\n",
    "    \n",
    "    # Drop any rows where the 'value' column is NaN (caused by invalid or missing data)\n",
    "    transaction_df = transaction_df.dropna(subset=['value'])\n",
    "    \n",
    "    # Filter the transactions where the value is greater than or equal to the threshold (min_value)\n",
    "    filtered_transactions = transaction_df[transaction_df['value'] >= min_value]\n",
    "    \n",
    "    # Return only the relevant columns for analysis: 'from', 'to', 'value', and 'hash'\n",
    "    return filtered_transactions[['from', 'to', 'value', 'hash']]\n",
    "\n",
    "\n",
    "# Function to save the filtered transactions to a CSV file\n",
    "def save_to_csv(dataframe, file_name):\n",
    "\n",
    "    # Save the DataFrame to a CSV file without including the index column\n",
    "    dataframe.to_csv(file_name, index=False)\n",
    "    print(f\"Data saved to {file_name}\")  # Print confirmation that data was saved"
   ]
  },
  {
   "cell_type": "markdown",
   "id": "f8dbfbde-48cb-45fe-9ccf-b08f4ba1dd83",
   "metadata": {},
   "source": [
    "### Tracking the flow of funds"
   ]
  },
  {
   "cell_type": "code",
   "execution_count": 4,
   "id": "43c48b0c-1da4-4278-afc9-92a25bafc725",
   "metadata": {},
   "outputs": [
    {
     "name": "stdout",
     "output_type": "stream",
     "text": [
      "Processing depth 1...\n",
      "Processing depth 2...\n",
      "Funds detected going to Tornado Cash from 0x429a66e7bd829f9453cee5239bfeaf5657a11a3e.\n",
      "Funds detected going to Tornado Cash from 0x5b0431365ce1ab3693bea6f33ae67653dd30d8bd.\n",
      "Funds detected going to Tornado Cash from 0xbcd78c2d608e7ceb3d25bea30fae8a9d57033868.\n",
      "Data saved to fund_flow_analysis.csv\n",
      "Fund tracking complete. Data saved to file.\n"
     ]
    }
   ],
   "source": [
    "\n",
    "\n",
    "\n",
    "# Function to track the flow of funds from a starting wallet address to subsequent addresses up to a specified depth\n",
    "def track_wallet_funds(start_address, max_hops=2, block_start=start_block, block_end=end_block, \n",
    "                       api_key=api_key, api_url=api_url, tornado_cash_address=tornado_cash_address, \n",
    "                       output_file=\"fund_flow_analysis.csv\"):\n",
    "  \n",
    "    collected_txns = []  # Initialize a list to collect all relevant transactions\n",
    "    current_addresses = [start_address]  # Start with the given wallet address\n",
    "    \n",
    "    # Loop over each depth/hop level (up to max_hops)\n",
    "    for depth in range(max_hops):\n",
    "        print(f\"Processing depth {depth + 1}...\")\n",
    "        next_addresses = []  # List to collect addresses for the next hop\n",
    "\n",
    "        # Iterate over all addresses in the current depth to fetch transactions\n",
    "        for address in current_addresses:\n",
    "            try:\n",
    "                # Fetch transactions for the current address within the specified block range\n",
    "                transactions = fetch_wallet_transactions(address, block_start, block_end, api_key, api_url)\n",
    "                \n",
    "                # Filter out transactions that are below the minimum threshold (100 ETH by default)\n",
    "                filtered_txns = filter_large_transactions(transactions)\n",
    "                \n",
    "                # Add the filtered transactions to the collected transactions list\n",
    "                collected_txns.extend(filtered_txns.to_dict('records'))\n",
    "                \n",
    "                # Check if any funds are going to Tornado Cash and stop tracking that flow\n",
    "                if tornado_cash_address and tornado_cash_address in filtered_txns['to'].values:\n",
    "                    print(f\"Funds detected going to Tornado Cash from {address}.\")\n",
    "                    continue  # Stop tracking this chain of funds\n",
    "                \n",
    "                # Collect unique recipient addresses for the next depth iteration\n",
    "                next_addresses.extend(filtered_txns['to'].unique())\n",
    "            \n",
    "            except Exception as e:\n",
    "                print(f\"Error processing address {address}: {e}\")  # Handle any errors for specific addresses\n",
    "\n",
    "        # Update the list of addresses for the next hop\n",
    "        current_addresses = next_addresses\n",
    "\n",
    "    # Convert the collected transactions into a pandas DataFrame for analysis\n",
    "    fund_flow_df = pd.DataFrame(collected_txns)\n",
    "\n",
    "    # Save the fund flow data to a CSV file\n",
    "    save_to_csv(fund_flow_df, output_file)\n",
    "    return fund_flow_df  # Return the DataFrame containing the fund flow data\n",
    "\n",
    "\n",
    "# Start the fund tracking process\n",
    "try:\n",
    "    # Call the function to track the funds starting from the Exploiter address, following up to 2 hops\n",
    "    tracked_fund_data = track_wallet_funds(\n",
    "        start_address=wallet_address,\n",
    "        max_hops=2  # Set maximum hops (depth) to 2 for this analysis\n",
    "    )\n",
    "    print(\"Fund tracking complete. Data saved to file.\")\n",
    "except Exception as e:\n",
    "    print(f\"An error occurred during fund tracking: {e}\")  # Catch any errors that occur during the tracking process\n"
   ]
  },
  {
   "cell_type": "markdown",
   "id": "ae32424b-5609-4587-b712-c1c473abe582",
   "metadata": {},
   "source": [
    "### Summary of the funds "
   ]
  },
  {
   "cell_type": "code",
   "execution_count": 5,
   "id": "9ebe684f-f667-45e2-bb0c-87687d20c03f",
   "metadata": {},
   "outputs": [
    {
     "name": "stdout",
     "output_type": "stream",
     "text": [
      "Total funds sent to Tornado Cash: 7900.0 ETH\n",
      "Top Recipients:\n",
      "                                           to        value\n",
      "5  0xd90e2f925da726b50c4ed8d0fb90ad053324f31b  7900.000000\n",
      "4  0xbcd78c2d608e7ceb3d25bea30fae8a9d57033868  6205.243000\n",
      "1  0x1361c1e18930483f4aaf91f3a263937e4fcc1f39  6005.970000\n",
      "3  0x5b0431365ce1ab3693bea6f33ae67653dd30d8bd  5606.512200\n",
      "2  0x429a66e7bd829f9453cee5239bfeaf5657a11a3e  4036.470580\n",
      "6  0xdf225c84a0eaeaaac20e6c1d369e94ee13b9df2a  3498.431280\n",
      "0  0x01a5d51057a82818d68d8f3b76ef0ac69a99a911  1774.675338\n"
     ]
    }
   ],
   "source": [
    "def summarize_funds(dataframe, tornado_cash_address=None, top_n=10):\n",
    "    \n",
    "    # Group by recipient address ('to') and sum the values of transactions sent to each recipient\n",
    "    recipient_summary = dataframe.groupby('to')['value'].sum().reset_index()\n",
    "\n",
    "    # Initialize tornado_total to 0 (we will update it if Tornado Cash address is provided)\n",
    "    tornado_total = 0\n",
    "\n",
    "    # If a Tornado Cash address is provided, calculate the total funds sent to that address\n",
    "    if tornado_cash_address:\n",
    "        # Filter for rows where the recipient is the Tornado Cash address and sum the 'value' column\n",
    "        tornado_total = recipient_summary[recipient_summary['to'] == tornado_cash_address]['value'].sum()\n",
    "        # Print the total funds sent to Tornado Cash\n",
    "        print(f\"Total funds sent to Tornado Cash: {tornado_total} ETH\")\n",
    "\n",
    "    # Sort the recipient summary by value (descending order) and get the top N recipients\n",
    "    top_recipients = recipient_summary.sort_values(by='value', ascending=False).head(top_n)\n",
    "    \n",
    "    # Print the top N recipients\n",
    "    print(\"Top Recipients:\")\n",
    "    print(top_recipients)\n",
    "\n",
    "    # Return the recipient summary, total funds sent to Tornado Cash, and the top N recipients\n",
    "    return recipient_summary, tornado_total, top_recipients\n",
    "\n",
    "\n",
    "# Example usage: Summarize the funds based on the tracked data (ensure 'tracked_fund_data' is already populated)\n",
    "recipient_summary, tornado_total, top_recipients = summarize_funds(\n",
    "    dataframe=tracked_fund_data,  # Use the DataFrame containing the tracked fund flow data\n",
    "    tornado_cash_address=tornado_cash_address,  # Pass the Tornado Cash address to track funds\n",
    "    top_n=10  # Get the top 10 recipients by the total funds they received\n",
    ")\n"
   ]
  },
  {
   "cell_type": "markdown",
   "id": "e296844e-317d-4e27-8996-5624d70d0e5c",
   "metadata": {},
   "source": [
    "### Visualizing the Findings\r"
   ]
  },
  {
   "cell_type": "code",
   "execution_count": 13,
   "id": "235892fc-ebdc-4189-b9d2-cc296119e8fe",
   "metadata": {},
   "outputs": [
    {
     "data": {
      "application/vnd.plotly.v1+json": {
       "config": {
        "plotlyServerURL": "https://plot.ly"
       },
       "data": [
        {
         "link": {
          "hovertemplate": "From: %{source.label}<br>To: %{target.label}<br>Value: %{value} ETH<extra></extra>",
          "source": [
           0,
           0,
           0,
           0,
           0,
           0,
           1,
           0,
           2,
           2,
           2,
           2,
           2,
           2,
           2,
           2,
           2,
           2,
           2,
           2,
           2,
           2,
           2,
           2,
           2,
           2,
           2,
           2,
           0,
           3,
           3,
           3,
           3,
           3,
           3,
           3,
           3,
           3,
           3,
           3,
           3,
           3,
           3,
           3,
           3,
           3,
           3,
           3,
           3,
           3,
           3,
           3,
           3,
           3,
           3,
           3,
           3,
           0,
           4,
           4,
           4,
           4,
           4,
           4,
           4,
           4,
           4,
           4,
           4,
           4,
           4,
           4,
           4,
           4,
           4,
           4,
           4,
           4,
           4,
           4,
           4,
           4,
           4,
           4,
           4,
           4,
           4,
           4,
           4,
           0
          ],
          "target": [
           1,
           2,
           3,
           4,
           5,
           1,
           6,
           2,
           7,
           7,
           7,
           7,
           7,
           7,
           7,
           7,
           7,
           7,
           7,
           7,
           7,
           7,
           7,
           7,
           7,
           7,
           7,
           7,
           3,
           7,
           7,
           7,
           7,
           7,
           7,
           7,
           7,
           7,
           7,
           7,
           7,
           7,
           7,
           7,
           7,
           7,
           7,
           7,
           7,
           7,
           7,
           7,
           7,
           7,
           7,
           7,
           7,
           4,
           7,
           7,
           7,
           7,
           7,
           7,
           7,
           7,
           7,
           7,
           7,
           7,
           7,
           7,
           7,
           7,
           7,
           7,
           7,
           7,
           7,
           7,
           7,
           7,
           7,
           7,
           7,
           7,
           7,
           7,
           7,
           5
          ],
          "value": [
           1749.21564,
           2018.23529,
           2803.2561,
           3102.6215,
           3002.9849999999997,
           1749.21564,
           1774.675338353915,
           2018.23529,
           100,
           100,
           100,
           100,
           100,
           100,
           100,
           100,
           100,
           100,
           100,
           100,
           100,
           100,
           100,
           100,
           100,
           100,
           100,
           100,
           2803.2561,
           100,
           100,
           100,
           100,
           100,
           100,
           100,
           100,
           100,
           100,
           100,
           100,
           100,
           100,
           100,
           100,
           100,
           100,
           100,
           100,
           100,
           100,
           100,
           100,
           100,
           100,
           100,
           100,
           3102.6215,
           100,
           100,
           100,
           100,
           100,
           100,
           100,
           100,
           100,
           100,
           100,
           100,
           100,
           100,
           100,
           100,
           100,
           100,
           100,
           100,
           100,
           100,
           100,
           100,
           100,
           100,
           100,
           100,
           100,
           100,
           100,
           3002.9849999999997
          ]
         },
         "node": {
          "label": [
           "0x098b716b8aaf21512996dc57eb0615e2383e2f96",
           "0xdf225c84a0eaeaaac20e6c1d369e94ee13b9df2a",
           "0x429a66e7bd829f9453cee5239bfeaf5657a11a3e",
           "0x5b0431365ce1ab3693bea6f33ae67653dd30d8bd",
           "0xbcd78c2d608e7ceb3d25bea30fae8a9d57033868",
           "0x1361c1e18930483f4aaf91f3a263937e4fcc1f39",
           "0x01a5d51057a82818d68d8f3b76ef0ac69a99a911",
           "0xd90e2f925da726b50c4ed8d0fb90ad053324f31b"
          ],
          "line": {
           "color": "black",
           "width": 0.5
          },
          "pad": 15,
          "thickness": 20
         },
         "type": "sankey"
        }
       ],
       "layout": {
        "font": {
         "size": 10
        },
        "height": 600,
        "template": {
         "data": {
          "bar": [
           {
            "error_x": {
             "color": "#2a3f5f"
            },
            "error_y": {
             "color": "#2a3f5f"
            },
            "marker": {
             "line": {
              "color": "#E5ECF6",
              "width": 0.5
             },
             "pattern": {
              "fillmode": "overlay",
              "size": 10,
              "solidity": 0.2
             }
            },
            "type": "bar"
           }
          ],
          "barpolar": [
           {
            "marker": {
             "line": {
              "color": "#E5ECF6",
              "width": 0.5
             },
             "pattern": {
              "fillmode": "overlay",
              "size": 10,
              "solidity": 0.2
             }
            },
            "type": "barpolar"
           }
          ],
          "carpet": [
           {
            "aaxis": {
             "endlinecolor": "#2a3f5f",
             "gridcolor": "white",
             "linecolor": "white",
             "minorgridcolor": "white",
             "startlinecolor": "#2a3f5f"
            },
            "baxis": {
             "endlinecolor": "#2a3f5f",
             "gridcolor": "white",
             "linecolor": "white",
             "minorgridcolor": "white",
             "startlinecolor": "#2a3f5f"
            },
            "type": "carpet"
           }
          ],
          "choropleth": [
           {
            "colorbar": {
             "outlinewidth": 0,
             "ticks": ""
            },
            "type": "choropleth"
           }
          ],
          "contour": [
           {
            "colorbar": {
             "outlinewidth": 0,
             "ticks": ""
            },
            "colorscale": [
             [
              0,
              "#0d0887"
             ],
             [
              0.1111111111111111,
              "#46039f"
             ],
             [
              0.2222222222222222,
              "#7201a8"
             ],
             [
              0.3333333333333333,
              "#9c179e"
             ],
             [
              0.4444444444444444,
              "#bd3786"
             ],
             [
              0.5555555555555556,
              "#d8576b"
             ],
             [
              0.6666666666666666,
              "#ed7953"
             ],
             [
              0.7777777777777778,
              "#fb9f3a"
             ],
             [
              0.8888888888888888,
              "#fdca26"
             ],
             [
              1,
              "#f0f921"
             ]
            ],
            "type": "contour"
           }
          ],
          "contourcarpet": [
           {
            "colorbar": {
             "outlinewidth": 0,
             "ticks": ""
            },
            "type": "contourcarpet"
           }
          ],
          "heatmap": [
           {
            "colorbar": {
             "outlinewidth": 0,
             "ticks": ""
            },
            "colorscale": [
             [
              0,
              "#0d0887"
             ],
             [
              0.1111111111111111,
              "#46039f"
             ],
             [
              0.2222222222222222,
              "#7201a8"
             ],
             [
              0.3333333333333333,
              "#9c179e"
             ],
             [
              0.4444444444444444,
              "#bd3786"
             ],
             [
              0.5555555555555556,
              "#d8576b"
             ],
             [
              0.6666666666666666,
              "#ed7953"
             ],
             [
              0.7777777777777778,
              "#fb9f3a"
             ],
             [
              0.8888888888888888,
              "#fdca26"
             ],
             [
              1,
              "#f0f921"
             ]
            ],
            "type": "heatmap"
           }
          ],
          "heatmapgl": [
           {
            "colorbar": {
             "outlinewidth": 0,
             "ticks": ""
            },
            "colorscale": [
             [
              0,
              "#0d0887"
             ],
             [
              0.1111111111111111,
              "#46039f"
             ],
             [
              0.2222222222222222,
              "#7201a8"
             ],
             [
              0.3333333333333333,
              "#9c179e"
             ],
             [
              0.4444444444444444,
              "#bd3786"
             ],
             [
              0.5555555555555556,
              "#d8576b"
             ],
             [
              0.6666666666666666,
              "#ed7953"
             ],
             [
              0.7777777777777778,
              "#fb9f3a"
             ],
             [
              0.8888888888888888,
              "#fdca26"
             ],
             [
              1,
              "#f0f921"
             ]
            ],
            "type": "heatmapgl"
           }
          ],
          "histogram": [
           {
            "marker": {
             "pattern": {
              "fillmode": "overlay",
              "size": 10,
              "solidity": 0.2
             }
            },
            "type": "histogram"
           }
          ],
          "histogram2d": [
           {
            "colorbar": {
             "outlinewidth": 0,
             "ticks": ""
            },
            "colorscale": [
             [
              0,
              "#0d0887"
             ],
             [
              0.1111111111111111,
              "#46039f"
             ],
             [
              0.2222222222222222,
              "#7201a8"
             ],
             [
              0.3333333333333333,
              "#9c179e"
             ],
             [
              0.4444444444444444,
              "#bd3786"
             ],
             [
              0.5555555555555556,
              "#d8576b"
             ],
             [
              0.6666666666666666,
              "#ed7953"
             ],
             [
              0.7777777777777778,
              "#fb9f3a"
             ],
             [
              0.8888888888888888,
              "#fdca26"
             ],
             [
              1,
              "#f0f921"
             ]
            ],
            "type": "histogram2d"
           }
          ],
          "histogram2dcontour": [
           {
            "colorbar": {
             "outlinewidth": 0,
             "ticks": ""
            },
            "colorscale": [
             [
              0,
              "#0d0887"
             ],
             [
              0.1111111111111111,
              "#46039f"
             ],
             [
              0.2222222222222222,
              "#7201a8"
             ],
             [
              0.3333333333333333,
              "#9c179e"
             ],
             [
              0.4444444444444444,
              "#bd3786"
             ],
             [
              0.5555555555555556,
              "#d8576b"
             ],
             [
              0.6666666666666666,
              "#ed7953"
             ],
             [
              0.7777777777777778,
              "#fb9f3a"
             ],
             [
              0.8888888888888888,
              "#fdca26"
             ],
             [
              1,
              "#f0f921"
             ]
            ],
            "type": "histogram2dcontour"
           }
          ],
          "mesh3d": [
           {
            "colorbar": {
             "outlinewidth": 0,
             "ticks": ""
            },
            "type": "mesh3d"
           }
          ],
          "parcoords": [
           {
            "line": {
             "colorbar": {
              "outlinewidth": 0,
              "ticks": ""
             }
            },
            "type": "parcoords"
           }
          ],
          "pie": [
           {
            "automargin": true,
            "type": "pie"
           }
          ],
          "scatter": [
           {
            "fillpattern": {
             "fillmode": "overlay",
             "size": 10,
             "solidity": 0.2
            },
            "type": "scatter"
           }
          ],
          "scatter3d": [
           {
            "line": {
             "colorbar": {
              "outlinewidth": 0,
              "ticks": ""
             }
            },
            "marker": {
             "colorbar": {
              "outlinewidth": 0,
              "ticks": ""
             }
            },
            "type": "scatter3d"
           }
          ],
          "scattercarpet": [
           {
            "marker": {
             "colorbar": {
              "outlinewidth": 0,
              "ticks": ""
             }
            },
            "type": "scattercarpet"
           }
          ],
          "scattergeo": [
           {
            "marker": {
             "colorbar": {
              "outlinewidth": 0,
              "ticks": ""
             }
            },
            "type": "scattergeo"
           }
          ],
          "scattergl": [
           {
            "marker": {
             "colorbar": {
              "outlinewidth": 0,
              "ticks": ""
             }
            },
            "type": "scattergl"
           }
          ],
          "scattermapbox": [
           {
            "marker": {
             "colorbar": {
              "outlinewidth": 0,
              "ticks": ""
             }
            },
            "type": "scattermapbox"
           }
          ],
          "scatterpolar": [
           {
            "marker": {
             "colorbar": {
              "outlinewidth": 0,
              "ticks": ""
             }
            },
            "type": "scatterpolar"
           }
          ],
          "scatterpolargl": [
           {
            "marker": {
             "colorbar": {
              "outlinewidth": 0,
              "ticks": ""
             }
            },
            "type": "scatterpolargl"
           }
          ],
          "scatterternary": [
           {
            "marker": {
             "colorbar": {
              "outlinewidth": 0,
              "ticks": ""
             }
            },
            "type": "scatterternary"
           }
          ],
          "surface": [
           {
            "colorbar": {
             "outlinewidth": 0,
             "ticks": ""
            },
            "colorscale": [
             [
              0,
              "#0d0887"
             ],
             [
              0.1111111111111111,
              "#46039f"
             ],
             [
              0.2222222222222222,
              "#7201a8"
             ],
             [
              0.3333333333333333,
              "#9c179e"
             ],
             [
              0.4444444444444444,
              "#bd3786"
             ],
             [
              0.5555555555555556,
              "#d8576b"
             ],
             [
              0.6666666666666666,
              "#ed7953"
             ],
             [
              0.7777777777777778,
              "#fb9f3a"
             ],
             [
              0.8888888888888888,
              "#fdca26"
             ],
             [
              1,
              "#f0f921"
             ]
            ],
            "type": "surface"
           }
          ],
          "table": [
           {
            "cells": {
             "fill": {
              "color": "#EBF0F8"
             },
             "line": {
              "color": "white"
             }
            },
            "header": {
             "fill": {
              "color": "#C8D4E3"
             },
             "line": {
              "color": "white"
             }
            },
            "type": "table"
           }
          ]
         },
         "layout": {
          "annotationdefaults": {
           "arrowcolor": "#2a3f5f",
           "arrowhead": 0,
           "arrowwidth": 1
          },
          "autotypenumbers": "strict",
          "coloraxis": {
           "colorbar": {
            "outlinewidth": 0,
            "ticks": ""
           }
          },
          "colorscale": {
           "diverging": [
            [
             0,
             "#8e0152"
            ],
            [
             0.1,
             "#c51b7d"
            ],
            [
             0.2,
             "#de77ae"
            ],
            [
             0.3,
             "#f1b6da"
            ],
            [
             0.4,
             "#fde0ef"
            ],
            [
             0.5,
             "#f7f7f7"
            ],
            [
             0.6,
             "#e6f5d0"
            ],
            [
             0.7,
             "#b8e186"
            ],
            [
             0.8,
             "#7fbc41"
            ],
            [
             0.9,
             "#4d9221"
            ],
            [
             1,
             "#276419"
            ]
           ],
           "sequential": [
            [
             0,
             "#0d0887"
            ],
            [
             0.1111111111111111,
             "#46039f"
            ],
            [
             0.2222222222222222,
             "#7201a8"
            ],
            [
             0.3333333333333333,
             "#9c179e"
            ],
            [
             0.4444444444444444,
             "#bd3786"
            ],
            [
             0.5555555555555556,
             "#d8576b"
            ],
            [
             0.6666666666666666,
             "#ed7953"
            ],
            [
             0.7777777777777778,
             "#fb9f3a"
            ],
            [
             0.8888888888888888,
             "#fdca26"
            ],
            [
             1,
             "#f0f921"
            ]
           ],
           "sequentialminus": [
            [
             0,
             "#0d0887"
            ],
            [
             0.1111111111111111,
             "#46039f"
            ],
            [
             0.2222222222222222,
             "#7201a8"
            ],
            [
             0.3333333333333333,
             "#9c179e"
            ],
            [
             0.4444444444444444,
             "#bd3786"
            ],
            [
             0.5555555555555556,
             "#d8576b"
            ],
            [
             0.6666666666666666,
             "#ed7953"
            ],
            [
             0.7777777777777778,
             "#fb9f3a"
            ],
            [
             0.8888888888888888,
             "#fdca26"
            ],
            [
             1,
             "#f0f921"
            ]
           ]
          },
          "colorway": [
           "#636efa",
           "#EF553B",
           "#00cc96",
           "#ab63fa",
           "#FFA15A",
           "#19d3f3",
           "#FF6692",
           "#B6E880",
           "#FF97FF",
           "#FECB52"
          ],
          "font": {
           "color": "#2a3f5f"
          },
          "geo": {
           "bgcolor": "white",
           "lakecolor": "white",
           "landcolor": "#E5ECF6",
           "showlakes": true,
           "showland": true,
           "subunitcolor": "white"
          },
          "hoverlabel": {
           "align": "left"
          },
          "hovermode": "closest",
          "mapbox": {
           "style": "light"
          },
          "paper_bgcolor": "white",
          "plot_bgcolor": "#E5ECF6",
          "polar": {
           "angularaxis": {
            "gridcolor": "white",
            "linecolor": "white",
            "ticks": ""
           },
           "bgcolor": "#E5ECF6",
           "radialaxis": {
            "gridcolor": "white",
            "linecolor": "white",
            "ticks": ""
           }
          },
          "scene": {
           "xaxis": {
            "backgroundcolor": "#E5ECF6",
            "gridcolor": "white",
            "gridwidth": 2,
            "linecolor": "white",
            "showbackground": true,
            "ticks": "",
            "zerolinecolor": "white"
           },
           "yaxis": {
            "backgroundcolor": "#E5ECF6",
            "gridcolor": "white",
            "gridwidth": 2,
            "linecolor": "white",
            "showbackground": true,
            "ticks": "",
            "zerolinecolor": "white"
           },
           "zaxis": {
            "backgroundcolor": "#E5ECF6",
            "gridcolor": "white",
            "gridwidth": 2,
            "linecolor": "white",
            "showbackground": true,
            "ticks": "",
            "zerolinecolor": "white"
           }
          },
          "shapedefaults": {
           "line": {
            "color": "#2a3f5f"
           }
          },
          "ternary": {
           "aaxis": {
            "gridcolor": "white",
            "linecolor": "white",
            "ticks": ""
           },
           "baxis": {
            "gridcolor": "white",
            "linecolor": "white",
            "ticks": ""
           },
           "bgcolor": "#E5ECF6",
           "caxis": {
            "gridcolor": "white",
            "linecolor": "white",
            "ticks": ""
           }
          },
          "title": {
           "x": 0.05
          },
          "xaxis": {
           "automargin": true,
           "gridcolor": "white",
           "linecolor": "white",
           "ticks": "",
           "title": {
            "standoff": 15
           },
           "zerolinecolor": "white",
           "zerolinewidth": 2
          },
          "yaxis": {
           "automargin": true,
           "gridcolor": "white",
           "linecolor": "white",
           "ticks": "",
           "title": {
            "standoff": 15
           },
           "zerolinecolor": "white",
           "zerolinewidth": 2
          }
         }
        },
        "title": {
         "text": "Ronin Fund Flow Sankey Diagram"
        },
        "width": 1000
       }
      },
      "image/png": "[encoded data removed]",
      "text/html": [
       "<div>                            <div id=\"c164eb0c-28a3-4964-8a2a-c6c617f52c23\" class=\"plotly-graph-div\" style=\"height:600px; width:1000px;\"></div>            <script type=\"text/javascript\">                require([\"plotly\"], function(Plotly) {                    window.PLOTLYENV=window.PLOTLYENV || {};                                    if (document.getElementById(\"c164eb0c-28a3-4964-8a2a-c6c617f52c23\")) {                    Plotly.newPlot(                        \"c164eb0c-28a3-4964-8a2a-c6c617f52c23\",                        [{\"link\":{\"hovertemplate\":\"From: %{source.label}<br>To: %{target.label}<br>Value: %{value} ETH<extra></extra>\",\"source\":[0,0,0,0,0,0,1,0,2,2,2,2,2,2,2,2,2,2,2,2,2,2,2,2,2,2,2,2,0,3,3,3,3,3,3,3,3,3,3,3,3,3,3,3,3,3,3,3,3,3,3,3,3,3,3,3,3,0,4,4,4,4,4,4,4,4,4,4,4,4,4,4,4,4,4,4,4,4,4,4,4,4,4,4,4,4,4,4,4,0],\"target\":[1,2,3,4,5,1,6,2,7,7,7,7,7,7,7,7,7,7,7,7,7,7,7,7,7,7,7,7,3,7,7,7,7,7,7,7,7,7,7,7,7,7,7,7,7,7,7,7,7,7,7,7,7,7,7,7,7,4,7,7,7,7,7,7,7,7,7,7,7,7,7,7,7,7,7,7,7,7,7,7,7,7,7,7,7,7,7,7,7,5],\"value\":[1749.21564,2018.23529,2803.2561,3102.6215,3002.9849999999997,1749.21564,1774.675338353915,2018.23529,100.0,100.0,100.0,100.0,100.0,100.0,100.0,100.0,100.0,100.0,100.0,100.0,100.0,100.0,100.0,100.0,100.0,100.0,100.0,100.0,2803.2561,100.0,100.0,100.0,100.0,100.0,100.0,100.0,100.0,100.0,100.0,100.0,100.0,100.0,100.0,100.0,100.0,100.0,100.0,100.0,100.0,100.0,100.0,100.0,100.0,100.0,100.0,100.0,100.0,3102.6215,100.0,100.0,100.0,100.0,100.0,100.0,100.0,100.0,100.0,100.0,100.0,100.0,100.0,100.0,100.0,100.0,100.0,100.0,100.0,100.0,100.0,100.0,100.0,100.0,100.0,100.0,100.0,100.0,100.0,100.0,100.0,3002.9849999999997]},\"node\":{\"label\":[\"0x098b716b8aaf21512996dc57eb0615e2383e2f96\",\"0xdf225c84a0eaeaaac20e6c1d369e94ee13b9df2a\",\"0x429a66e7bd829f9453cee5239bfeaf5657a11a3e\",\"0x5b0431365ce1ab3693bea6f33ae67653dd30d8bd\",\"0xbcd78c2d608e7ceb3d25bea30fae8a9d57033868\",\"0x1361c1e18930483f4aaf91f3a263937e4fcc1f39\",\"0x01a5d51057a82818d68d8f3b76ef0ac69a99a911\",\"0xd90e2f925da726b50c4ed8d0fb90ad053324f31b\"],\"line\":{\"color\":\"black\",\"width\":0.5},\"pad\":15,\"thickness\":20},\"type\":\"sankey\"}],                        {\"template\":{\"data\":{\"histogram2dcontour\":[{\"type\":\"histogram2dcontour\",\"colorbar\":{\"outlinewidth\":0,\"ticks\":\"\"},\"colorscale\":[[0.0,\"#0d0887\"],[0.1111111111111111,\"#46039f\"],[0.2222222222222222,\"#7201a8\"],[0.3333333333333333,\"#9c179e\"],[0.4444444444444444,\"#bd3786\"],[0.5555555555555556,\"#d8576b\"],[0.6666666666666666,\"#ed7953\"],[0.7777777777777778,\"#fb9f3a\"],[0.8888888888888888,\"#fdca26\"],[1.0,\"#f0f921\"]]}],\"choropleth\":[{\"type\":\"choropleth\",\"colorbar\":{\"outlinewidth\":0,\"ticks\":\"\"}}],\"histogram2d\":[{\"type\":\"histogram2d\",\"colorbar\":{\"outlinewidth\":0,\"ticks\":\"\"},\"colorscale\":[[0.0,\"#0d0887\"],[0.1111111111111111,\"#46039f\"],[0.2222222222222222,\"#7201a8\"],[0.3333333333333333,\"#9c179e\"],[0.4444444444444444,\"#bd3786\"],[0.5555555555555556,\"#d8576b\"],[0.6666666666666666,\"#ed7953\"],[0.7777777777777778,\"#fb9f3a\"],[0.8888888888888888,\"#fdca26\"],[1.0,\"#f0f921\"]]}],\"heatmap\":[{\"type\":\"heatmap\",\"colorbar\":{\"outlinewidth\":0,\"ticks\":\"\"},\"colorscale\":[[0.0,\"#0d0887\"],[0.1111111111111111,\"#46039f\"],[0.2222222222222222,\"#7201a8\"],[0.3333333333333333,\"#9c179e\"],[0.4444444444444444,\"#bd3786\"],[0.5555555555555556,\"#d8576b\"],[0.6666666666666666,\"#ed7953\"],[0.7777777777777778,\"#fb9f3a\"],[0.8888888888888888,\"#fdca26\"],[1.0,\"#f0f921\"]]}],\"heatmapgl\":[{\"type\":\"heatmapgl\",\"colorbar\":{\"outlinewidth\":0,\"ticks\":\"\"},\"colorscale\":[[0.0,\"#0d0887\"],[0.1111111111111111,\"#46039f\"],[0.2222222222222222,\"#7201a8\"],[0.3333333333333333,\"#9c179e\"],[0.4444444444444444,\"#bd3786\"],[0.5555555555555556,\"#d8576b\"],[0.6666666666666666,\"#ed7953\"],[0.7777777777777778,\"#fb9f3a\"],[0.8888888888888888,\"#fdca26\"],[1.0,\"#f0f921\"]]}],\"contourcarpet\":[{\"type\":\"contourcarpet\",\"colorbar\":{\"outlinewidth\":0,\"ticks\":\"\"}}],\"contour\":[{\"type\":\"contour\",\"colorbar\":{\"outlinewidth\":0,\"ticks\":\"\"},\"colorscale\":[[0.0,\"#0d0887\"],[0.1111111111111111,\"#46039f\"],[0.2222222222222222,\"#7201a8\"],[0.3333333333333333,\"#9c179e\"],[0.4444444444444444,\"#bd3786\"],[0.5555555555555556,\"#d8576b\"],[0.6666666666666666,\"#ed7953\"],[0.7777777777777778,\"#fb9f3a\"],[0.8888888888888888,\"#fdca26\"],[1.0,\"#f0f921\"]]}],\"surface\":[{\"type\":\"surface\",\"colorbar\":{\"outlinewidth\":0,\"ticks\":\"\"},\"colorscale\":[[0.0,\"#0d0887\"],[0.1111111111111111,\"#46039f\"],[0.2222222222222222,\"#7201a8\"],[0.3333333333333333,\"#9c179e\"],[0.4444444444444444,\"#bd3786\"],[0.5555555555555556,\"#d8576b\"],[0.6666666666666666,\"#ed7953\"],[0.7777777777777778,\"#fb9f3a\"],[0.8888888888888888,\"#fdca26\"],[1.0,\"#f0f921\"]]}],\"mesh3d\":[{\"type\":\"mesh3d\",\"colorbar\":{\"outlinewidth\":0,\"ticks\":\"\"}}],\"scatter\":[{\"fillpattern\":{\"fillmode\":\"overlay\",\"size\":10,\"solidity\":0.2},\"type\":\"scatter\"}],\"parcoords\":[{\"type\":\"parcoords\",\"line\":{\"colorbar\":{\"outlinewidth\":0,\"ticks\":\"\"}}}],\"scatterpolargl\":[{\"type\":\"scatterpolargl\",\"marker\":{\"colorbar\":{\"outlinewidth\":0,\"ticks\":\"\"}}}],\"bar\":[{\"error_x\":{\"color\":\"#2a3f5f\"},\"error_y\":{\"color\":\"#2a3f5f\"},\"marker\":{\"line\":{\"color\":\"#E5ECF6\",\"width\":0.5},\"pattern\":{\"fillmode\":\"overlay\",\"size\":10,\"solidity\":0.2}},\"type\":\"bar\"}],\"scattergeo\":[{\"type\":\"scattergeo\",\"marker\":{\"colorbar\":{\"outlinewidth\":0,\"ticks\":\"\"}}}],\"scatterpolar\":[{\"type\":\"scatterpolar\",\"marker\":{\"colorbar\":{\"outlinewidth\":0,\"ticks\":\"\"}}}],\"histogram\":[{\"marker\":{\"pattern\":{\"fillmode\":\"overlay\",\"size\":10,\"solidity\":0.2}},\"type\":\"histogram\"}],\"scattergl\":[{\"type\":\"scattergl\",\"marker\":{\"colorbar\":{\"outlinewidth\":0,\"ticks\":\"\"}}}],\"scatter3d\":[{\"type\":\"scatter3d\",\"line\":{\"colorbar\":{\"outlinewidth\":0,\"ticks\":\"\"}},\"marker\":{\"colorbar\":{\"outlinewidth\":0,\"ticks\":\"\"}}}],\"scattermapbox\":[{\"type\":\"scattermapbox\",\"marker\":{\"colorbar\":{\"outlinewidth\":0,\"ticks\":\"\"}}}],\"scatterternary\":[{\"type\":\"scatterternary\",\"marker\":{\"colorbar\":{\"outlinewidth\":0,\"ticks\":\"\"}}}],\"scattercarpet\":[{\"type\":\"scattercarpet\",\"marker\":{\"colorbar\":{\"outlinewidth\":0,\"ticks\":\"\"}}}],\"carpet\":[{\"aaxis\":{\"endlinecolor\":\"#2a3f5f\",\"gridcolor\":\"white\",\"linecolor\":\"white\",\"minorgridcolor\":\"white\",\"startlinecolor\":\"#2a3f5f\"},\"baxis\":{\"endlinecolor\":\"#2a3f5f\",\"gridcolor\":\"white\",\"linecolor\":\"white\",\"minorgridcolor\":\"white\",\"startlinecolor\":\"#2a3f5f\"},\"type\":\"carpet\"}],\"table\":[{\"cells\":{\"fill\":{\"color\":\"#EBF0F8\"},\"line\":{\"color\":\"white\"}},\"header\":{\"fill\":{\"color\":\"#C8D4E3\"},\"line\":{\"color\":\"white\"}},\"type\":\"table\"}],\"barpolar\":[{\"marker\":{\"line\":{\"color\":\"#E5ECF6\",\"width\":0.5},\"pattern\":{\"fillmode\":\"overlay\",\"size\":10,\"solidity\":0.2}},\"type\":\"barpolar\"}],\"pie\":[{\"automargin\":true,\"type\":\"pie\"}]},\"layout\":{\"autotypenumbers\":\"strict\",\"colorway\":[\"#636efa\",\"#EF553B\",\"#00cc96\",\"#ab63fa\",\"#FFA15A\",\"#19d3f3\",\"#FF6692\",\"#B6E880\",\"#FF97FF\",\"#FECB52\"],\"font\":{\"color\":\"#2a3f5f\"},\"hovermode\":\"closest\",\"hoverlabel\":{\"align\":\"left\"},\"paper_bgcolor\":\"white\",\"plot_bgcolor\":\"#E5ECF6\",\"polar\":{\"bgcolor\":\"#E5ECF6\",\"angularaxis\":{\"gridcolor\":\"white\",\"linecolor\":\"white\",\"ticks\":\"\"},\"radialaxis\":{\"gridcolor\":\"white\",\"linecolor\":\"white\",\"ticks\":\"\"}},\"ternary\":{\"bgcolor\":\"#E5ECF6\",\"aaxis\":{\"gridcolor\":\"white\",\"linecolor\":\"white\",\"ticks\":\"\"},\"baxis\":{\"gridcolor\":\"white\",\"linecolor\":\"white\",\"ticks\":\"\"},\"caxis\":{\"gridcolor\":\"white\",\"linecolor\":\"white\",\"ticks\":\"\"}},\"coloraxis\":{\"colorbar\":{\"outlinewidth\":0,\"ticks\":\"\"}},\"colorscale\":{\"sequential\":[[0.0,\"#0d0887\"],[0.1111111111111111,\"#46039f\"],[0.2222222222222222,\"#7201a8\"],[0.3333333333333333,\"#9c179e\"],[0.4444444444444444,\"#bd3786\"],[0.5555555555555556,\"#d8576b\"],[0.6666666666666666,\"#ed7953\"],[0.7777777777777778,\"#fb9f3a\"],[0.8888888888888888,\"#fdca26\"],[1.0,\"#f0f921\"]],\"sequentialminus\":[[0.0,\"#0d0887\"],[0.1111111111111111,\"#46039f\"],[0.2222222222222222,\"#7201a8\"],[0.3333333333333333,\"#9c179e\"],[0.4444444444444444,\"#bd3786\"],[0.5555555555555556,\"#d8576b\"],[0.6666666666666666,\"#ed7953\"],[0.7777777777777778,\"#fb9f3a\"],[0.8888888888888888,\"#fdca26\"],[1.0,\"#f0f921\"]],\"diverging\":[[0,\"#8e0152\"],[0.1,\"#c51b7d\"],[0.2,\"#de77ae\"],[0.3,\"#f1b6da\"],[0.4,\"#fde0ef\"],[0.5,\"#f7f7f7\"],[0.6,\"#e6f5d0\"],[0.7,\"#b8e186\"],[0.8,\"#7fbc41\"],[0.9,\"#4d9221\"],[1,\"#276419\"]]},\"xaxis\":{\"gridcolor\":\"white\",\"linecolor\":\"white\",\"ticks\":\"\",\"title\":{\"standoff\":15},\"zerolinecolor\":\"white\",\"automargin\":true,\"zerolinewidth\":2},\"yaxis\":{\"gridcolor\":\"white\",\"linecolor\":\"white\",\"ticks\":\"\",\"title\":{\"standoff\":15},\"zerolinecolor\":\"white\",\"automargin\":true,\"zerolinewidth\":2},\"scene\":{\"xaxis\":{\"backgroundcolor\":\"#E5ECF6\",\"gridcolor\":\"white\",\"linecolor\":\"white\",\"showbackground\":true,\"ticks\":\"\",\"zerolinecolor\":\"white\",\"gridwidth\":2},\"yaxis\":{\"backgroundcolor\":\"#E5ECF6\",\"gridcolor\":\"white\",\"linecolor\":\"white\",\"showbackground\":true,\"ticks\":\"\",\"zerolinecolor\":\"white\",\"gridwidth\":2},\"zaxis\":{\"backgroundcolor\":\"#E5ECF6\",\"gridcolor\":\"white\",\"linecolor\":\"white\",\"showbackground\":true,\"ticks\":\"\",\"zerolinecolor\":\"white\",\"gridwidth\":2}},\"shapedefaults\":{\"line\":{\"color\":\"#2a3f5f\"}},\"annotationdefaults\":{\"arrowcolor\":\"#2a3f5f\",\"arrowhead\":0,\"arrowwidth\":1},\"geo\":{\"bgcolor\":\"white\",\"landcolor\":\"#E5ECF6\",\"subunitcolor\":\"white\",\"showland\":true,\"showlakes\":true,\"lakecolor\":\"white\"},\"title\":{\"x\":0.05},\"mapbox\":{\"style\":\"light\"}}},\"title\":{\"text\":\"Ronin Fund Flow Sankey Diagram\"},\"font\":{\"size\":10},\"width\":1000,\"height\":600},                        {\"responsive\": true}                    ).then(function(){\n",
       "                            \n",
       "var gd = document.getElementById('c164eb0c-28a3-4964-8a2a-c6c617f52c23');\n",
       "var x = new MutationObserver(function (mutations, observer) {{\n",
       "        var display = window.getComputedStyle(gd).display;\n",
       "        if (!display || display === 'none') {{\n",
       "            console.log([gd, 'removed!']);\n",
       "            Plotly.purge(gd);\n",
       "            observer.disconnect();\n",
       "        }}\n",
       "}});\n",
       "\n",
       "// Listen for the removal of the full notebook cells\n",
       "var notebookContainer = gd.closest('#notebook-container');\n",
       "if (notebookContainer) {{\n",
       "    x.observe(notebookContainer, {childList: true});\n",
       "}}\n",
       "\n",
       "// Listen for the clearing of the current output cell\n",
       "var outputEl = gd.closest('.output');\n",
       "if (outputEl) {{\n",
       "    x.observe(outputEl, {childList: true});\n",
       "}}\n",
       "\n",
       "                        })                };                });            </script>        </div>"
      ]
     },
     "metadata": {},
     "output_type": "display_data"
    }
   ],
   "source": [
    "import plotly.graph_objects as go\n",
    "\n",
    "\n",
    "# Rename it to fund_tracking_data for consistency with your visualization code\n",
    "fund_tracking_data = tracked_fund_data \n",
    "\n",
    "# Clean up the data to ensure the 'from', 'to', and 'value' columns are valid and not missing\n",
    "fund_tracking_data = fund_tracking_data.dropna(subset=['from', 'to', 'value'])  # Remove rows with missing values in these columns\n",
    "fund_tracking_data['value'] = pd.to_numeric(fund_tracking_data['value'], errors='coerce')  # Ensure 'value' is numeric (ETH amounts)\n",
    "\n",
    "# Create a list of unique nodes (addresses involved in the fund flow)\n",
    "nodes = pd.concat([fund_tracking_data['from'], fund_tracking_data['to']]).unique()\n",
    "\n",
    "# Create a mapping from each node (address) to a unique index\n",
    "node_indices = {node: i for i, node in enumerate(nodes)}\n",
    "\n",
    "# Prepare the data for the Sankey diagram (map addresses to indices and keep transaction values)\n",
    "sankey_data = {\n",
    "    'source': fund_tracking_data['from'].map(node_indices),  # Map 'from' addresses to node indices\n",
    "    'target': fund_tracking_data['to'].map(node_indices),    # Map 'to' addresses to node indices\n",
    "    'value': fund_tracking_data['value']  # The amount of ETH transferred in each transaction\n",
    "}\n",
    "\n",
    "# Create a Sankey diagram using Plotly\n",
    "fig = go.Figure(go.Sankey(\n",
    "    node=dict(\n",
    "        pad=15,\n",
    "        thickness=20,\n",
    "        line=dict(color=\"black\", width=0.5),\n",
    "        label=nodes  # Display full addresses in nodes\n",
    "    ),\n",
    "    link=dict(\n",
    "        source=sankey_data['source'],\n",
    "        target=sankey_data['target'],\n",
    "        value=sankey_data['value'],\n",
    "        # Add hovertemplate to display full addresses and value\n",
    "        hovertemplate='From: %{source.label}<br>To: %{target.label}<br>Value: %{value} ETH<extra></extra>' \n",
    "    )\n",
    "))\n",
    "\n",
    "\n",
    "fig.update_layout(\n",
    "    title_text=\"Ronin Fund Flow Sankey Diagram\",\n",
    "    font_size=10,\n",
    "    # Adjust width and height for better address display - Corrected indentation\n",
    "    width=1000, \n",
    "    height=600  \n",
    ")\n",
    "\n",
    "\n",
    "# Display the Sankey diagram\n",
    "fig.show()\n"
   ]
  }
 ],
 "metadata": {
  "kernelspec": {
   "display_name": "Python 3 (ipykernel)",
   "language": "python",
   "name": "python3"
  },
  "language_info": {
   "codemirror_mode": {
    "name": "ipython",
    "version": 3
   },
   "file_extension": ".py",
   "mimetype": "text/x-python",
   "name": "python",
   "nbconvert_exporter": "python",
   "pygments_lexer": "ipython3",
   "version": "3.11.7"
  }
 },
 "nbformat": 4,
 "nbformat_minor": 5
}
